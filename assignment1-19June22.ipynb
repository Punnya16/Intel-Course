{
 "cells": [
  {
   "cell_type": "markdown",
   "id": "82a88e89",
   "metadata": {},
   "source": [
    "#                                              ASSIGNMENT - 1 (PYTHON BASICS)"
   ]
  },
  {
   "cell_type": "markdown",
   "id": "ed1bdd0f",
   "metadata": {},
   "source": [
    "## 1. Accept number and make square and cube of it."
   ]
  },
  {
   "cell_type": "code",
   "execution_count": 2,
   "id": "3430e7bb",
   "metadata": {},
   "outputs": [
    {
     "name": "stdout",
     "output_type": "stream",
     "text": [
      "Enter Number: 7\n",
      "Square is: 49 Cube is: 343\n"
     ]
    }
   ],
   "source": [
    "a = eval(input(\"Enter Number: \"))\n",
    "square = a ** 2\n",
    "cube = a ** 3\n",
    "print('Square is:', square, 'Cube is:', cube)"
   ]
  },
  {
   "cell_type": "markdown",
   "id": "b5a74382",
   "metadata": {},
   "source": [
    "## 2. Accept radius and calculate the area of circle."
   ]
  },
  {
   "cell_type": "code",
   "execution_count": 4,
   "id": "dabb899e",
   "metadata": {},
   "outputs": [
    {
     "name": "stdout",
     "output_type": "stream",
     "text": [
      "Enter Radius: 4\n",
      "Area of the Circle is  50.24\n"
     ]
    }
   ],
   "source": [
    "rad = eval(input(\"Enter Radius: \"))\n",
    "area = 3.14 * (rad ** 2)\n",
    "print('Area of the Circle is ',area)"
   ]
  },
  {
   "cell_type": "markdown",
   "id": "c5c2907a",
   "metadata": {},
   "source": [
    "## 3. Accept two numbers and make all arithmetic operations "
   ]
  },
  {
   "cell_type": "code",
   "execution_count": 1,
   "id": "7ba71c47",
   "metadata": {},
   "outputs": [
    {
     "name": "stdout",
     "output_type": "stream",
     "text": [
      "Enter First Number: 90\n",
      "Enter Second Number: 4\n",
      "Addition:  94\n",
      "Subtraction:  86\n",
      "Multiplication:  360\n",
      "Division:  22.5\n",
      "Modulus:  2\n",
      "Exponentiation:  65610000\n",
      "Floor division:  22\n"
     ]
    }
   ],
   "source": [
    "x = int(input(\"Enter First Number: \"))\n",
    "y = int(input(\"Enter Second Number: \"))\n",
    "\n",
    "print(\"Addition: \", x+y)\n",
    "print(\"Subtraction: \", x-y)\n",
    "print(\"Multiplication: \", x*y)\n",
    "print(\"Division: \", x/y)\n",
    "print(\"Modulus: \", x%y)\n",
    "print(\"Exponentiation: \", x**y)\n",
    "print(\"Floor division: \", x//y)"
   ]
  },
  {
   "cell_type": "markdown",
   "id": "d96b6b11",
   "metadata": {},
   "source": [
    "## 4. Print anything you want on the screen."
   ]
  },
  {
   "cell_type": "code",
   "execution_count": 13,
   "id": "d74dccfd",
   "metadata": {},
   "outputs": [
    {
     "name": "stdout",
     "output_type": "stream",
     "text": [
      "Hello!\n",
      "My name is Punnya and I am having a great learning experience at Intellipat. \n",
      "Have a great day!\n"
     ]
    }
   ],
   "source": [
    "a = 'Punnya'\n",
    "b = 'and I am having a great learning experience at Intellipat.'\n",
    "c = '\\nHave a great day!'\n",
    "\n",
    "print('Hello!\\nMy name is',a,b,c)"
   ]
  },
  {
   "cell_type": "markdown",
   "id": "2843cef6",
   "metadata": {},
   "source": [
    "## 5. Check type of following: \"CodesDope\", 16.2, 9.33333333333333333333,15 "
   ]
  },
  {
   "cell_type": "code",
   "execution_count": 17,
   "id": "aa0b375c",
   "metadata": {},
   "outputs": [
    {
     "name": "stdout",
     "output_type": "stream",
     "text": [
      "<class 'str'>\n",
      "<class 'float'>\n",
      "<class 'float'>\n",
      "<class 'int'>\n"
     ]
    }
   ],
   "source": [
    "print(type(\"CodesDope\"))\n",
    "print(type(16.2))\n",
    "print(type(9.33333333333333333333))\n",
    "print(type(15))"
   ]
  },
  {
   "cell_type": "markdown",
   "id": "c022a559",
   "metadata": {},
   "source": [
    "## 6. Store two values in x and y and swap them. "
   ]
  },
  {
   "cell_type": "code",
   "execution_count": 18,
   "id": "5b19d914",
   "metadata": {},
   "outputs": [
    {
     "name": "stdout",
     "output_type": "stream",
     "text": [
      "Enter First Value: 8\n",
      "Enter Second Value: 42\n",
      "First value after swap 42\n",
      "Second value after swap 8\n"
     ]
    }
   ],
   "source": [
    "x = eval(input(\"Enter First Value: \"))\n",
    "y = eval(input(\"Enter Second Value: \"))\n",
    "temp = x\n",
    "x = y\n",
    "y = temp\n",
    "print('First value after swap',x)\n",
    "print('Second value after swap',y)"
   ]
  },
  {
   "cell_type": "markdown",
   "id": "cf4b69d4",
   "metadata": {},
   "source": [
    "## 7. Take input of length and breadth of a rectangle from user and print area of it.\n",
    " "
   ]
  },
  {
   "cell_type": "code",
   "execution_count": 21,
   "id": "b964aab5",
   "metadata": {},
   "outputs": [
    {
     "name": "stdout",
     "output_type": "stream",
     "text": [
      "Enter Length: 91\n",
      "Enter Breadth: 15\n",
      "Area of the Rectangle is 1365\n"
     ]
    }
   ],
   "source": [
    "l = eval(input(\"Enter Length: \"))\n",
    "b = eval(input(\"Enter Breadth: \"))\n",
    "area = l*b\n",
    "print('Area of the Rectangle is',area)"
   ]
  },
  {
   "cell_type": "markdown",
   "id": "596592e9",
   "metadata": {},
   "source": [
    "## 8. Ask user to give two float input for length and breadth of a rectangle and print area. "
   ]
  },
  {
   "cell_type": "code",
   "execution_count": 22,
   "id": "3aed3feb",
   "metadata": {},
   "outputs": [
    {
     "name": "stdout",
     "output_type": "stream",
     "text": [
      "Enter Length: 7.8\n",
      "Enter Breadth: 4.1\n",
      "Area of the Rectangle is 31.979999999999997\n"
     ]
    }
   ],
   "source": [
    "l = float(input(\"Enter Length: \"))\n",
    "b = float(input(\"Enter Breadth: \"))\n",
    "area = l*b\n",
    "print('Area of the Rectangle is',area)"
   ]
  },
  {
   "cell_type": "markdown",
   "id": "5551a01c",
   "metadata": {},
   "source": [
    "## 9. Take name, roll number and field of interest from user and print in the below format : Hey, my name is xyz and my roll number is xyz. My field of interest is xyz "
   ]
  },
  {
   "cell_type": "code",
   "execution_count": 24,
   "id": "f3f03c9f",
   "metadata": {},
   "outputs": [
    {
     "name": "stdout",
     "output_type": "stream",
     "text": [
      "Enter Name: Punnya\n",
      "Enter Roll Number: 37\n",
      "Field of Interest: Data Science\n",
      "Hey, my name is Punnya and my roll number is 37 My field of interest is Data Science\n"
     ]
    }
   ],
   "source": [
    "name = str(input('Enter Name: '))\n",
    "roll = int(input('Enter Roll Number: '))\n",
    "interest = str(input('Field of Interest: '))\n",
    "print('Hey, my name is',name,'and my roll number is',roll,'My field of interest is',interest)"
   ]
  },
  {
   "cell_type": "markdown",
   "id": "49cc2196",
   "metadata": {},
   "source": [
    "## 10. Take two inputs from user and check whether they are equal or not. "
   ]
  },
  {
   "cell_type": "code",
   "execution_count": 26,
   "id": "609a1a66",
   "metadata": {},
   "outputs": [
    {
     "name": "stdout",
     "output_type": "stream",
     "text": [
      "Enter first string: hello\n",
      "Enter second string: HeLlo\n",
      "False\n"
     ]
    }
   ],
   "source": [
    "a = str(input('Enter first string: '))\n",
    "b = str(input('Enter second string: '))\n",
    "equal_or_not = (a == b)\n",
    "print(equal_or_not)"
   ]
  }
 ],
 "metadata": {
  "kernelspec": {
   "display_name": "Python 3 (ipykernel)",
   "language": "python",
   "name": "python3"
  },
  "language_info": {
   "codemirror_mode": {
    "name": "ipython",
    "version": 3
   },
   "file_extension": ".py",
   "mimetype": "text/x-python",
   "name": "python",
   "nbconvert_exporter": "python",
   "pygments_lexer": "ipython3",
   "version": "3.9.13"
  }
 },
 "nbformat": 4,
 "nbformat_minor": 5
}
